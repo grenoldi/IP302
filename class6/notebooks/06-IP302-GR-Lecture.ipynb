{
 "cells": [
  {
   "cell_type": "code",
   "execution_count": 1,
   "id": "5d6f4a38",
   "metadata": {},
   "outputs": [],
   "source": [
    "# data manipulation libraries\n",
    "import pandas as pd\n",
    "import numpy as np\n",
    "\n",
    "# visualisation libraries\n",
    "import seaborn as sns\n",
    "import matplotlib.pyplot as plt\n",
    "\n",
    "# machine learning libraries\n",
    "from sklearn.preprocessing import StandardScaler\n",
    "from sklearn.model_selection import train_test_split\n",
    "from sklearn.linear_model import LogisticRegression\n",
    "from sklearn.metrics import accuracy_score, recall_score, precision_score, f1_score, confusion_matrix, classification_report"
   ]
  },
  {
   "cell_type": "code",
   "execution_count": 2,
   "id": "ce828492",
   "metadata": {},
   "outputs": [],
   "source": [
    "users_data = pd.read_pickle(\"../data/users_data_final.pkl\")"
   ]
  },
  {
   "cell_type": "code",
   "execution_count": 3,
   "id": "a9990bef",
   "metadata": {},
   "outputs": [
    {
     "name": "stdout",
     "output_type": "stream",
     "text": [
      "<class 'pandas.core.frame.DataFrame'>\n",
      "Int64Index: 45209 entries, 0 to 45215\n",
      "Data columns (total 19 columns):\n",
      " #   Column               Non-Null Count  Dtype         \n",
      "---  ------               --------------  -----         \n",
      " 0   user_id              45209 non-null  object        \n",
      " 1   number_transactions  35210 non-null  float64       \n",
      " 2   total_amount_usd     35210 non-null  float64       \n",
      " 3   age                  45209 non-null  int64         \n",
      " 4   job                  44921 non-null  object        \n",
      " 5   marital              45209 non-null  object        \n",
      " 6   education            43352 non-null  object        \n",
      " 7   default              45209 non-null  bool          \n",
      " 8   housing              45209 non-null  bool          \n",
      " 9   loan                 45209 non-null  bool          \n",
      " 10  contact              32191 non-null  object        \n",
      " 11  duration             45209 non-null  int64         \n",
      " 12  campaign             45209 non-null  int64         \n",
      " 13  pdays                45209 non-null  int64         \n",
      " 14  previous             45209 non-null  int64         \n",
      " 15  poutcome             8252 non-null   object        \n",
      " 16  term_deposit         45209 non-null  bool          \n",
      " 17  date_joined          45179 non-null  datetime64[ns]\n",
      " 18  device               45115 non-null  object        \n",
      "dtypes: bool(4), datetime64[ns](1), float64(2), int64(5), object(7)\n",
      "memory usage: 5.7+ MB\n"
     ]
    }
   ],
   "source": [
    "users_data.info()"
   ]
  },
  {
   "cell_type": "code",
   "execution_count": 4,
   "id": "93f38731",
   "metadata": {},
   "outputs": [],
   "source": [
    "non_object_features = list(users_data.select_dtypes(['float64', 'int64', 'bool']).columns)"
   ]
  },
  {
   "cell_type": "code",
   "execution_count": 5,
   "id": "4c96c60f",
   "metadata": {},
   "outputs": [
    {
     "data": {
      "text/plain": [
       "['number_transactions',\n",
       " 'total_amount_usd',\n",
       " 'age',\n",
       " 'default',\n",
       " 'housing',\n",
       " 'loan',\n",
       " 'duration',\n",
       " 'campaign',\n",
       " 'pdays',\n",
       " 'previous',\n",
       " 'term_deposit']"
      ]
     },
     "execution_count": 5,
     "metadata": {},
     "output_type": "execute_result"
    }
   ],
   "source": [
    "non_object_features"
   ]
  },
  {
   "cell_type": "code",
   "execution_count": 6,
   "id": "51ab5e6b",
   "metadata": {},
   "outputs": [
    {
     "data": {
      "text/plain": [
       "list"
      ]
     },
     "execution_count": 6,
     "metadata": {},
     "output_type": "execute_result"
    }
   ],
   "source": [
    "type(non_object_features)"
   ]
  },
  {
   "cell_type": "code",
   "execution_count": 7,
   "id": "c6239113",
   "metadata": {},
   "outputs": [
    {
     "data": {
      "text/plain": [
       "11"
      ]
     },
     "execution_count": 7,
     "metadata": {},
     "output_type": "execute_result"
    }
   ],
   "source": [
    "len(non_object_features)"
   ]
  },
  {
   "cell_type": "code",
   "execution_count": 8,
   "id": "17611771",
   "metadata": {},
   "outputs": [
    {
     "data": {
      "text/plain": [
       "user_id                    0\n",
       "number_transactions     9999\n",
       "total_amount_usd        9999\n",
       "age                        0\n",
       "job                      288\n",
       "marital                    0\n",
       "education               1857\n",
       "default                    0\n",
       "housing                    0\n",
       "loan                       0\n",
       "contact                13018\n",
       "duration                   0\n",
       "campaign                   0\n",
       "pdays                      0\n",
       "previous                   0\n",
       "poutcome               36957\n",
       "term_deposit               0\n",
       "date_joined               30\n",
       "device                    94\n",
       "dtype: int64"
      ]
     },
     "execution_count": 8,
     "metadata": {},
     "output_type": "execute_result"
    }
   ],
   "source": [
    "users_data.isnull().sum()"
   ]
  },
  {
   "cell_type": "code",
   "execution_count": 9,
   "id": "0b83e162",
   "metadata": {},
   "outputs": [],
   "source": [
    "numerical_features = users_data.select_dtypes(['float64', 'int64', 'bool'])"
   ]
  },
  {
   "cell_type": "code",
   "execution_count": 10,
   "id": "305f6e19",
   "metadata": {},
   "outputs": [
    {
     "data": {
      "text/plain": [
       "number_transactions    9999\n",
       "total_amount_usd       9999\n",
       "age                       0\n",
       "default                   0\n",
       "housing                   0\n",
       "loan                      0\n",
       "duration                  0\n",
       "campaign                  0\n",
       "pdays                     0\n",
       "previous                  0\n",
       "term_deposit              0\n",
       "dtype: int64"
      ]
     },
     "execution_count": 10,
     "metadata": {},
     "output_type": "execute_result"
    }
   ],
   "source": [
    "numerical_features.isnull().sum()"
   ]
  },
  {
   "cell_type": "code",
   "execution_count": 11,
   "id": "f9829f35",
   "metadata": {},
   "outputs": [],
   "source": [
    "def identify_missing_data(df):\n",
    "    \"\"\"\n",
    "    This function is used to identify missing data\n",
    "    \n",
    "    @param df pandas DataFrame\n",
    "    \n",
    "    @return a DataFrame with the percentage of missing data for every feature and the data types\n",
    "    \"\"\"\n",
    "    \n",
    "    percent_missing = df.isnull().mean()\n",
    "    \n",
    "    missing_value_df = pd.DataFrame(percent_missing).reset_index() # convert to DataFrame\n",
    "    missing_value_df = missing_value_df.rename(columns = {\"index\" : \"feature\",\n",
    "                                                                0 : \"percent_missing\"}) # rename columns\n",
    "\n",
    "    missing_value_df = missing_value_df.sort_values(by = ['percent_missing'], ascending = False) # sort the values\n",
    "    \n",
    "    data_types_df = pd.DataFrame(df.dtypes).reset_index().rename(columns = {\"index\" : \"feature\",\n",
    "                                                                0 : \"data_type\"}) # rename columns\n",
    "    \n",
    "    missing_value_df = missing_value_df.merge(data_types_df, on = \"feature\") # join the dataframe with datatype\n",
    "    \n",
    "    missing_value_df.percent_missing = round(missing_value_df.percent_missing*100, 2) # format the percent_missing\n",
    "    \n",
    "    return missing_value_df"
   ]
  },
  {
   "cell_type": "code",
   "execution_count": 12,
   "id": "7395e727",
   "metadata": {},
   "outputs": [],
   "source": [
    "missing_df = identify_missing_data(numerical_features)"
   ]
  },
  {
   "cell_type": "code",
   "execution_count": 13,
   "id": "b323dcd1",
   "metadata": {},
   "outputs": [
    {
     "data": {
      "text/html": [
       "<div>\n",
       "<style scoped>\n",
       "    .dataframe tbody tr th:only-of-type {\n",
       "        vertical-align: middle;\n",
       "    }\n",
       "\n",
       "    .dataframe tbody tr th {\n",
       "        vertical-align: top;\n",
       "    }\n",
       "\n",
       "    .dataframe thead th {\n",
       "        text-align: right;\n",
       "    }\n",
       "</style>\n",
       "<table border=\"1\" class=\"dataframe\">\n",
       "  <thead>\n",
       "    <tr style=\"text-align: right;\">\n",
       "      <th></th>\n",
       "      <th>feature</th>\n",
       "      <th>percent_missing</th>\n",
       "      <th>data_type</th>\n",
       "    </tr>\n",
       "  </thead>\n",
       "  <tbody>\n",
       "    <tr>\n",
       "      <th>0</th>\n",
       "      <td>number_transactions</td>\n",
       "      <td>22.12</td>\n",
       "      <td>float64</td>\n",
       "    </tr>\n",
       "    <tr>\n",
       "      <th>1</th>\n",
       "      <td>total_amount_usd</td>\n",
       "      <td>22.12</td>\n",
       "      <td>float64</td>\n",
       "    </tr>\n",
       "    <tr>\n",
       "      <th>2</th>\n",
       "      <td>age</td>\n",
       "      <td>0.00</td>\n",
       "      <td>int64</td>\n",
       "    </tr>\n",
       "    <tr>\n",
       "      <th>3</th>\n",
       "      <td>default</td>\n",
       "      <td>0.00</td>\n",
       "      <td>bool</td>\n",
       "    </tr>\n",
       "    <tr>\n",
       "      <th>4</th>\n",
       "      <td>housing</td>\n",
       "      <td>0.00</td>\n",
       "      <td>bool</td>\n",
       "    </tr>\n",
       "    <tr>\n",
       "      <th>5</th>\n",
       "      <td>loan</td>\n",
       "      <td>0.00</td>\n",
       "      <td>bool</td>\n",
       "    </tr>\n",
       "    <tr>\n",
       "      <th>6</th>\n",
       "      <td>duration</td>\n",
       "      <td>0.00</td>\n",
       "      <td>int64</td>\n",
       "    </tr>\n",
       "    <tr>\n",
       "      <th>7</th>\n",
       "      <td>campaign</td>\n",
       "      <td>0.00</td>\n",
       "      <td>int64</td>\n",
       "    </tr>\n",
       "    <tr>\n",
       "      <th>8</th>\n",
       "      <td>pdays</td>\n",
       "      <td>0.00</td>\n",
       "      <td>int64</td>\n",
       "    </tr>\n",
       "    <tr>\n",
       "      <th>9</th>\n",
       "      <td>previous</td>\n",
       "      <td>0.00</td>\n",
       "      <td>int64</td>\n",
       "    </tr>\n",
       "    <tr>\n",
       "      <th>10</th>\n",
       "      <td>term_deposit</td>\n",
       "      <td>0.00</td>\n",
       "      <td>bool</td>\n",
       "    </tr>\n",
       "  </tbody>\n",
       "</table>\n",
       "</div>"
      ],
      "text/plain": [
       "                feature  percent_missing data_type\n",
       "0   number_transactions            22.12   float64\n",
       "1      total_amount_usd            22.12   float64\n",
       "2                   age             0.00     int64\n",
       "3               default             0.00      bool\n",
       "4               housing             0.00      bool\n",
       "5                  loan             0.00      bool\n",
       "6              duration             0.00     int64\n",
       "7              campaign             0.00     int64\n",
       "8                 pdays             0.00     int64\n",
       "9              previous             0.00     int64\n",
       "10         term_deposit             0.00      bool"
      ]
     },
     "execution_count": 13,
     "metadata": {},
     "output_type": "execute_result"
    }
   ],
   "source": [
    "missing_df"
   ]
  },
  {
   "cell_type": "code",
   "execution_count": 14,
   "id": "f00d796a",
   "metadata": {},
   "outputs": [
    {
     "data": {
      "text/html": [
       "<div>\n",
       "<style scoped>\n",
       "    .dataframe tbody tr th:only-of-type {\n",
       "        vertical-align: middle;\n",
       "    }\n",
       "\n",
       "    .dataframe tbody tr th {\n",
       "        vertical-align: top;\n",
       "    }\n",
       "\n",
       "    .dataframe thead th {\n",
       "        text-align: right;\n",
       "    }\n",
       "</style>\n",
       "<table border=\"1\" class=\"dataframe\">\n",
       "  <thead>\n",
       "    <tr style=\"text-align: right;\">\n",
       "      <th></th>\n",
       "      <th>feature</th>\n",
       "      <th>percent_missing</th>\n",
       "      <th>data_type</th>\n",
       "    </tr>\n",
       "  </thead>\n",
       "  <tbody>\n",
       "    <tr>\n",
       "      <th>0</th>\n",
       "      <td>number_transactions</td>\n",
       "      <td>22.12</td>\n",
       "      <td>float64</td>\n",
       "    </tr>\n",
       "    <tr>\n",
       "      <th>1</th>\n",
       "      <td>total_amount_usd</td>\n",
       "      <td>22.12</td>\n",
       "      <td>float64</td>\n",
       "    </tr>\n",
       "  </tbody>\n",
       "</table>\n",
       "</div>"
      ],
      "text/plain": [
       "               feature  percent_missing data_type\n",
       "0  number_transactions            22.12   float64\n",
       "1     total_amount_usd            22.12   float64"
      ]
     },
     "execution_count": 14,
     "metadata": {},
     "output_type": "execute_result"
    }
   ],
   "source": [
    "missing_df[missing_df.percent_missing>0]"
   ]
  },
  {
   "cell_type": "code",
   "execution_count": 18,
   "id": "07d34a99",
   "metadata": {},
   "outputs": [],
   "source": [
    "users_data.total_amount_usd.fillna(0, inplace = True)\n",
    "users_data.number_transactions.fillna(0, inplace = True)"
   ]
  },
  {
   "cell_type": "code",
   "execution_count": 19,
   "id": "f01091b6",
   "metadata": {},
   "outputs": [
    {
     "data": {
      "text/plain": [
       "user_id                    0\n",
       "number_transactions        0\n",
       "total_amount_usd           0\n",
       "age                        0\n",
       "job                      288\n",
       "marital                    0\n",
       "education               1857\n",
       "default                    0\n",
       "housing                    0\n",
       "loan                       0\n",
       "contact                13018\n",
       "duration                   0\n",
       "campaign                   0\n",
       "pdays                      0\n",
       "previous                   0\n",
       "poutcome               36957\n",
       "term_deposit               0\n",
       "date_joined               30\n",
       "device                    94\n",
       "dtype: int64"
      ]
     },
     "execution_count": 19,
     "metadata": {},
     "output_type": "execute_result"
    }
   ],
   "source": [
    "users_data.isnull().sum()"
   ]
  },
  {
   "cell_type": "code",
   "execution_count": 20,
   "id": "5b044a16",
   "metadata": {},
   "outputs": [
    {
     "data": {
      "text/html": [
       "<div>\n",
       "<style scoped>\n",
       "    .dataframe tbody tr th:only-of-type {\n",
       "        vertical-align: middle;\n",
       "    }\n",
       "\n",
       "    .dataframe tbody tr th {\n",
       "        vertical-align: top;\n",
       "    }\n",
       "\n",
       "    .dataframe thead th {\n",
       "        text-align: right;\n",
       "    }\n",
       "</style>\n",
       "<table border=\"1\" class=\"dataframe\">\n",
       "  <thead>\n",
       "    <tr style=\"text-align: right;\">\n",
       "      <th></th>\n",
       "      <th>number_transactions</th>\n",
       "      <th>total_amount_usd</th>\n",
       "      <th>age</th>\n",
       "      <th>default</th>\n",
       "      <th>housing</th>\n",
       "      <th>loan</th>\n",
       "      <th>duration</th>\n",
       "      <th>campaign</th>\n",
       "      <th>pdays</th>\n",
       "      <th>previous</th>\n",
       "      <th>term_deposit</th>\n",
       "    </tr>\n",
       "  </thead>\n",
       "  <tbody>\n",
       "    <tr>\n",
       "      <th>number_transactions</th>\n",
       "      <td>1.000000</td>\n",
       "      <td>-0.053000</td>\n",
       "      <td>-0.006587</td>\n",
       "      <td>0.106674</td>\n",
       "      <td>0.023340</td>\n",
       "      <td>0.058259</td>\n",
       "      <td>-0.013408</td>\n",
       "      <td>0.018530</td>\n",
       "      <td>-0.025933</td>\n",
       "      <td>-0.016458</td>\n",
       "      <td>-0.041566</td>\n",
       "    </tr>\n",
       "    <tr>\n",
       "      <th>total_amount_usd</th>\n",
       "      <td>-0.053000</td>\n",
       "      <td>1.000000</td>\n",
       "      <td>0.082964</td>\n",
       "      <td>-0.056963</td>\n",
       "      <td>-0.058107</td>\n",
       "      <td>-0.073512</td>\n",
       "      <td>0.019620</td>\n",
       "      <td>-0.015878</td>\n",
       "      <td>0.004753</td>\n",
       "      <td>0.016606</td>\n",
       "      <td>0.044277</td>\n",
       "    </tr>\n",
       "    <tr>\n",
       "      <th>age</th>\n",
       "      <td>-0.006587</td>\n",
       "      <td>0.082964</td>\n",
       "      <td>1.000000</td>\n",
       "      <td>-0.017875</td>\n",
       "      <td>-0.185552</td>\n",
       "      <td>-0.015641</td>\n",
       "      <td>-0.004645</td>\n",
       "      <td>0.004767</td>\n",
       "      <td>-0.023745</td>\n",
       "      <td>0.001297</td>\n",
       "      <td>0.025168</td>\n",
       "    </tr>\n",
       "    <tr>\n",
       "      <th>default</th>\n",
       "      <td>0.106674</td>\n",
       "      <td>-0.056963</td>\n",
       "      <td>-0.017875</td>\n",
       "      <td>1.000000</td>\n",
       "      <td>-0.006020</td>\n",
       "      <td>0.077232</td>\n",
       "      <td>-0.010017</td>\n",
       "      <td>0.016819</td>\n",
       "      <td>-0.029982</td>\n",
       "      <td>-0.018331</td>\n",
       "      <td>-0.022421</td>\n",
       "    </tr>\n",
       "    <tr>\n",
       "      <th>housing</th>\n",
       "      <td>0.023340</td>\n",
       "      <td>-0.058107</td>\n",
       "      <td>-0.185552</td>\n",
       "      <td>-0.006020</td>\n",
       "      <td>1.000000</td>\n",
       "      <td>0.041341</td>\n",
       "      <td>0.005041</td>\n",
       "      <td>-0.023583</td>\n",
       "      <td>0.124197</td>\n",
       "      <td>0.037087</td>\n",
       "      <td>-0.139161</td>\n",
       "    </tr>\n",
       "    <tr>\n",
       "      <th>loan</th>\n",
       "      <td>0.058259</td>\n",
       "      <td>-0.073512</td>\n",
       "      <td>-0.015641</td>\n",
       "      <td>0.077232</td>\n",
       "      <td>0.041341</td>\n",
       "      <td>1.000000</td>\n",
       "      <td>-0.012395</td>\n",
       "      <td>0.009972</td>\n",
       "      <td>-0.022762</td>\n",
       "      <td>-0.011048</td>\n",
       "      <td>-0.068193</td>\n",
       "    </tr>\n",
       "    <tr>\n",
       "      <th>duration</th>\n",
       "      <td>-0.013408</td>\n",
       "      <td>0.019620</td>\n",
       "      <td>-0.004645</td>\n",
       "      <td>-0.010017</td>\n",
       "      <td>0.005041</td>\n",
       "      <td>-0.012395</td>\n",
       "      <td>1.000000</td>\n",
       "      <td>-0.084551</td>\n",
       "      <td>-0.001549</td>\n",
       "      <td>0.001213</td>\n",
       "      <td>0.394549</td>\n",
       "    </tr>\n",
       "    <tr>\n",
       "      <th>campaign</th>\n",
       "      <td>0.018530</td>\n",
       "      <td>-0.015878</td>\n",
       "      <td>0.004767</td>\n",
       "      <td>0.016819</td>\n",
       "      <td>-0.023583</td>\n",
       "      <td>0.009972</td>\n",
       "      <td>-0.084551</td>\n",
       "      <td>1.000000</td>\n",
       "      <td>-0.088636</td>\n",
       "      <td>-0.032860</td>\n",
       "      <td>-0.073179</td>\n",
       "    </tr>\n",
       "    <tr>\n",
       "      <th>pdays</th>\n",
       "      <td>-0.025933</td>\n",
       "      <td>0.004753</td>\n",
       "      <td>-0.023745</td>\n",
       "      <td>-0.029982</td>\n",
       "      <td>0.124197</td>\n",
       "      <td>-0.022762</td>\n",
       "      <td>-0.001549</td>\n",
       "      <td>-0.088636</td>\n",
       "      <td>1.000000</td>\n",
       "      <td>0.454817</td>\n",
       "      <td>0.103616</td>\n",
       "    </tr>\n",
       "    <tr>\n",
       "      <th>previous</th>\n",
       "      <td>-0.016458</td>\n",
       "      <td>0.016606</td>\n",
       "      <td>0.001297</td>\n",
       "      <td>-0.018331</td>\n",
       "      <td>0.037087</td>\n",
       "      <td>-0.011048</td>\n",
       "      <td>0.001213</td>\n",
       "      <td>-0.032860</td>\n",
       "      <td>0.454817</td>\n",
       "      <td>1.000000</td>\n",
       "      <td>0.093232</td>\n",
       "    </tr>\n",
       "    <tr>\n",
       "      <th>term_deposit</th>\n",
       "      <td>-0.041566</td>\n",
       "      <td>0.044277</td>\n",
       "      <td>0.025168</td>\n",
       "      <td>-0.022421</td>\n",
       "      <td>-0.139161</td>\n",
       "      <td>-0.068193</td>\n",
       "      <td>0.394549</td>\n",
       "      <td>-0.073179</td>\n",
       "      <td>0.103616</td>\n",
       "      <td>0.093232</td>\n",
       "      <td>1.000000</td>\n",
       "    </tr>\n",
       "  </tbody>\n",
       "</table>\n",
       "</div>"
      ],
      "text/plain": [
       "                     number_transactions  total_amount_usd       age  \\\n",
       "number_transactions             1.000000         -0.053000 -0.006587   \n",
       "total_amount_usd               -0.053000          1.000000  0.082964   \n",
       "age                            -0.006587          0.082964  1.000000   \n",
       "default                         0.106674         -0.056963 -0.017875   \n",
       "housing                         0.023340         -0.058107 -0.185552   \n",
       "loan                            0.058259         -0.073512 -0.015641   \n",
       "duration                       -0.013408          0.019620 -0.004645   \n",
       "campaign                        0.018530         -0.015878  0.004767   \n",
       "pdays                          -0.025933          0.004753 -0.023745   \n",
       "previous                       -0.016458          0.016606  0.001297   \n",
       "term_deposit                   -0.041566          0.044277  0.025168   \n",
       "\n",
       "                      default   housing      loan  duration  campaign  \\\n",
       "number_transactions  0.106674  0.023340  0.058259 -0.013408  0.018530   \n",
       "total_amount_usd    -0.056963 -0.058107 -0.073512  0.019620 -0.015878   \n",
       "age                 -0.017875 -0.185552 -0.015641 -0.004645  0.004767   \n",
       "default              1.000000 -0.006020  0.077232 -0.010017  0.016819   \n",
       "housing             -0.006020  1.000000  0.041341  0.005041 -0.023583   \n",
       "loan                 0.077232  0.041341  1.000000 -0.012395  0.009972   \n",
       "duration            -0.010017  0.005041 -0.012395  1.000000 -0.084551   \n",
       "campaign             0.016819 -0.023583  0.009972 -0.084551  1.000000   \n",
       "pdays               -0.029982  0.124197 -0.022762 -0.001549 -0.088636   \n",
       "previous            -0.018331  0.037087 -0.011048  0.001213 -0.032860   \n",
       "term_deposit        -0.022421 -0.139161 -0.068193  0.394549 -0.073179   \n",
       "\n",
       "                        pdays  previous  term_deposit  \n",
       "number_transactions -0.025933 -0.016458     -0.041566  \n",
       "total_amount_usd     0.004753  0.016606      0.044277  \n",
       "age                 -0.023745  0.001297      0.025168  \n",
       "default             -0.029982 -0.018331     -0.022421  \n",
       "housing              0.124197  0.037087     -0.139161  \n",
       "loan                -0.022762 -0.011048     -0.068193  \n",
       "duration            -0.001549  0.001213      0.394549  \n",
       "campaign            -0.088636 -0.032860     -0.073179  \n",
       "pdays                1.000000  0.454817      0.103616  \n",
       "previous             0.454817  1.000000      0.093232  \n",
       "term_deposit         0.103616  0.093232      1.000000  "
      ]
     },
     "execution_count": 20,
     "metadata": {},
     "output_type": "execute_result"
    }
   ],
   "source": [
    "users_data.corr()"
   ]
  },
  {
   "cell_type": "code",
   "execution_count": 24,
   "id": "b121a244",
   "metadata": {},
   "outputs": [
    {
     "data": {
      "image/png": "[encoded data removed]",
      "text/plain": [
       "<Figure size 1080x720 with 9 Axes>"
      ]
     },
     "metadata": {
      "needs_background": "light"
     },
     "output_type": "display_data"
    }
   ],
   "source": [
    "plt.rcParams[\"figure.figsize\"] = (15,10)\n",
    "numerical_features.hist();"
   ]
  },
  {
   "cell_type": "code",
   "execution_count": 22,
   "id": "b6454642",
   "metadata": {},
   "outputs": [
    {
     "name": "stdout",
     "output_type": "stream",
     "text": [
      "# of categorical columns: 7\n"
     ]
    }
   ],
   "source": [
    "categorical_columns=list(users_data.select_dtypes(['object']).columns)\n",
    "print(\"# of categorical columns:\", len(categorical_columns))"
   ]
  },
  {
   "cell_type": "code",
   "execution_count": null,
   "id": "b6985528",
   "metadata": {},
   "outputs": [],
   "source": []
  }
 ],
 "metadata": {
  "kernelspec": {
   "display_name": "Python 3 (ipykernel)",
   "language": "python",
   "name": "python3"
  },
  "language_info": {
   "codemirror_mode": {
    "name": "ipython",
    "version": 3
   },
   "file_extension": ".py",
   "mimetype": "text/x-python",
   "name": "python",
   "nbconvert_exporter": "python",
   "pygments_lexer": "ipython3",
   "version": "3.7.11"
  }
 },
 "nbformat": 4,
 "nbformat_minor": 5
}
